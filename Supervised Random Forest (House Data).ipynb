{
 "cells": [
  {
   "cell_type": "code",
   "execution_count": 1,
   "id": "129b53a7-ddfd-4736-b3e2-e1ca58bba216",
   "metadata": {},
   "outputs": [],
   "source": [
    "# Impor modul yang diperlukan\n",
    "import pandas as pd\n",
    "from sklearn.model_selection import train_test_split, GridSearchCV\n",
    "from sklearn.ensemble import RandomForestClassifier\n",
    "from sklearn.metrics import confusion_matrix, ConfusionMatrixDisplay, classification_report\n",
    "import matplotlib.pyplot as plt"
   ]
  },
  {
   "cell_type": "code",
   "execution_count": 7,
   "id": "3380acfd-d9ab-4f4e-b401-167910931c07",
   "metadata": {},
   "outputs": [
    {
     "data": {
      "image/png": "[encoded data removed]",
      "text/plain": [
       "<Figure size 640x480 with 2 Axes>"
      ]
     },
     "metadata": {},
     "output_type": "display_data"
    },
    {
     "name": "stdout",
     "output_type": "stream",
     "text": [
      "Confusion Matrix:\n",
      " [[1075  116  281]\n",
      " [ 125  967  355]\n",
      " [ 363  501  540]]\n",
      "Best Parameters: {'max_depth': 10, 'min_samples_split': 10, 'n_estimators': 50}\n",
      "\n",
      "Classification Report:\n",
      "               precision    recall  f1-score   support\n",
      "\n",
      "        High       0.69      0.73      0.71      1472\n",
      "         Low       0.61      0.67      0.64      1447\n",
      "      Medium       0.46      0.38      0.42      1404\n",
      "\n",
      "    accuracy                           0.60      4323\n",
      "   macro avg       0.59      0.59      0.59      4323\n",
      "weighted avg       0.59      0.60      0.59      4323\n",
      "\n"
     ]
    }
   ],
   "source": [
    "df = pd.read_csv(\"C:\\\\Users\\\\LENOVO\\\\Downloads\\\\house_data.csv\", sep = \",\")\n",
    "\n",
    "# Drop kolom yang tidak diperlukan dan mengganti nama variabel\n",
    "df.drop(['id', 'date', 'bathrooms', 'sqft_above', 'sqft_basement', 'floors', \n",
    "         'waterfront', 'view', 'yr_renovated', 'yr_built', 'zipcode', 'lat', \n",
    "         'long', 'condition', 'grade', 'sqft_living15', 'sqft_lot15'], axis=1, inplace=True)\n",
    "df.rename(columns={'bedrooms': 'x1', 'sqft_living': 'x2', 'sqft_lot': 'x3', 'price': 'y'}, inplace=True)\n",
    "\n",
    "# Menambahkan klasifikasi label berdasarkan kuantil harga\n",
    "df['y'] = pd.qcut(df['y'], q=3, labels=['Low', 'Medium', 'High'])\n",
    "\n",
    "# Memisahkan fitur dan label\n",
    "X = df[['x1', 'x2', 'x3']]\n",
    "y = df['y']\n",
    "\n",
    "# Membagi dataset menjadi data latih dan data uji\n",
    "X_train, X_test, y_train, y_test = train_test_split(X, y, test_size=0.2, random_state=42)\n",
    "\n",
    "# Menentukan model dan parameter grid untuk GridSearchCV\n",
    "model = RandomForestClassifier(random_state=42)\n",
    "param_grid = {\n",
    "    'n_estimators': [50, 100, 200],\n",
    "    'max_depth': [None, 10, 20, 30],\n",
    "    'min_samples_split': [2, 5, 10]\n",
    "}\n",
    "\n",
    "# Inisialisasi GridSearchCV\n",
    "grid_search = GridSearchCV(estimator=model, param_grid=param_grid, cv=3, scoring='accuracy', n_jobs=-1)\n",
    "\n",
    "# Melatih model dengan grid search\n",
    "grid_search.fit(X_train, y_train)\n",
    "\n",
    "# Mendapatkan model terbaik dari grid search\n",
    "best_model = grid_search.best_estimator_\n",
    "\n",
    "# Confusion Matrix dengan visualisasi\n",
    "cm = confusion_matrix(y_test, y_pred)\n",
    "disp = ConfusionMatrixDisplay(confusion_matrix=cm, display_labels=best_model.classes_)\n",
    "disp.plot(cmap='Blues')\n",
    "\n",
    "# Classification Report\n",
    "report = classification_report(y_test, y_pred, zero_division=1)\n",
    "plt.show()\n",
    "\n",
    "# Membuat prediksi dengan model terbaik\n",
    "y_pred = best_model.predict(X_test)\n",
    "\n",
    "# Menampilkan parameter terbaik dan laporan klasifikasi\n",
    "print(\"Confusion Matrix:\\n\", confusion_matrix(y_test, y_pred))\n",
    "print(\"Best Parameters:\", grid_search.best_params_)\n",
    "print(\"\\nClassification Report:\\n\", report)\n"
   ]
  },
  {
   "cell_type": "code",
   "execution_count": 9,
   "id": "12d56696-dccb-4dd7-847a-ae4efea68b62",
   "metadata": {},
   "outputs": [
    {
     "name": "stdout",
     "output_type": "stream",
     "text": [
      "Low       7226\n",
      "Medium    7223\n",
      "High      7164\n",
      "Name: y, dtype: int64\n"
     ]
    }
   ],
   "source": [
    "print(df['y'].value_counts())"
   ]
  },
  {
   "cell_type": "code",
   "execution_count": null,
   "id": "ad1cf33d-aaf0-4a58-ab92-51fb74642730",
   "metadata": {},
   "outputs": [],
   "source": [
    "from sklearn.model_selection import cross_val_score\n",
    "scores = cross_val_score(model, X, y, cv=5)\n",
    "print(\"Cross-validation scores:\", scores)"
   ]
  },
  {
   "cell_type": "code",
   "execution_count": null,
   "id": "ebc2a47e-26ea-43c0-8555-26ff19b1c57b",
   "metadata": {},
   "outputs": [],
   "source": [
    "# Menggunakan model yang sudah dilatih\n",
    "feature_importance = best_model.feature_importances_\n",
    "\n",
    "# Visualisasi Feature Importance\n",
    "plt.barh(X.columns, feature_importance)\n",
    "plt.xlabel(\"Feature Importance\")\n",
    "plt.ylabel(\"Features\")\n",
    "plt.title(\"Feature Importance from Random Forest\")\n",
    "plt.show()"
   ]
  },
  {
   "cell_type": "code",
   "execution_count": null,
   "id": "ba9879bd-8f7c-4e0f-93c3-9143b03172ab",
   "metadata": {},
   "outputs": [],
   "source": [
    "from sklearn.tree import plot_tree\n",
    "\n",
    "# Pilih salah satu pohon dari Random Forest\n",
    "tree = best_model.estimators_[0]\n",
    "\n",
    "# Membatasi kedalaman pohon untuk visualisasi\n",
    "plt.figure(figsize=(12, 6)) \n",
    "plot_tree(\n",
    "    tree,\n",
    "    max_depth=3,                     # Membatasi kedalaman pohon\n",
    "    feature_names=['x1', 'x2', 'x3'],  # Nama fitur\n",
    "    class_names=list(best_model.classes_),  # Label kelas\n",
    "    filled=True,                     # Warna mencerminkan kelas dominan\n",
    "    rounded=True,                    # Membuat simpul pohon lebih rapi\n",
    "    fontsize=8,                      # Ukuran font\n",
    "    proportion=True                  # Proporsi pembagian data pada simpul\n",
    ")\n",
    "\n",
    "# Menambahkan judul\n",
    "plt.title(\"Visualisasi Pohon Keputusan (Kedalaman Maksimum 3)\", fontsize=14)\n",
    "plt.tight_layout()  # Menyesuaikan tata letak\n",
    "plt.show()"
   ]
  }
 ],
 "metadata": {
  "kernelspec": {
   "display_name": "Python 3 (ipykernel)",
   "language": "python",
   "name": "python3"
  },
  "language_info": {
   "codemirror_mode": {
    "name": "ipython",
    "version": 3
   },
   "file_extension": ".py",
   "mimetype": "text/x-python",
   "name": "python",
   "nbconvert_exporter": "python",
   "pygments_lexer": "ipython3",
   "version": "3.11.4"
  }
 },
 "nbformat": 4,
 "nbformat_minor": 5
}
